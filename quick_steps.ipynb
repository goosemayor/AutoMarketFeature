{
 "cells": [
  {
   "cell_type": "code",
   "execution_count": 8,
   "metadata": {},
   "outputs": [
    {
     "name": "stdout",
     "output_type": "stream",
     "text": [
      "[ExprGenerator] layer:1 expr:square(Return)\n"
     ]
    },
    {
     "data": {
      "text/plain": [
       "{'expr': 'square(Return)', 'layer': 1, 'create_date': '2020-10-22 14:45:09'}"
      ]
     },
     "execution_count": 8,
     "metadata": {},
     "output_type": "execute_result"
    }
   ],
   "source": [
    "import os\n",
    "os.path.join('/your_path/')\n",
    "from lib import expr_generator\n",
    "eg = expr_generator.ExprGenerator()\n",
    "eg.get_one_expr(layer_num=1)"
   ]
  },
  {
   "cell_type": "code",
   "execution_count": 14,
   "metadata": {},
   "outputs": [
    {
     "name": "stdout",
     "output_type": "stream",
     "text": [
      "[ExprGenerator] layer:2 expr:stddev(delta2(VolChg,60,100),200)\n"
     ]
    },
    {
     "data": {
      "text/plain": [
       "{'expr': 'stddev(delta2(VolChg,60,100),200)',\n",
       " 'layer': 2,\n",
       " 'create_date': '2020-10-22 14:45:37'}"
      ]
     },
     "execution_count": 14,
     "metadata": {},
     "output_type": "execute_result"
    }
   ],
   "source": [
    "eg.get_one_expr(layer_num=2)"
   ]
  },
  {
   "cell_type": "code",
   "execution_count": 15,
   "metadata": {},
   "outputs": [
    {
     "name": "stdout",
     "output_type": "stream",
     "text": [
      "[ExprGenerator] layer:2 expr:signedpower(equal_wgts(VWAP),3)\n",
      "[ExprGenerator] layer:2 expr:wma(ts_rank(Return,40),150)\n",
      "[ExprGenerator] Blacklist rules blocked this expr_str: drawdown(reciprocal(OpenPrice))\n",
      "[ExprGenerator] layer:2 expr:ma(hhv(LowestPrice,40),5)\n",
      "[ExprGenerator] layer:2 expr:tanh(ts_count(VolChg,5))\n",
      "[ExprGenerator] Blacklist rules blocked this expr_str: arcsinh(var(VWAP,15))\n",
      "[ExprGenerator] layer:2 expr:ts_rank(ts_min(HighestPrice,100),80)\n",
      "[ExprGenerator] Blacklist rules blocked this expr_str: floor(drawdown(VolChg))\n",
      "[ExprGenerator] layer:2 expr:ts_count(linearreg(OpenPrice,40),200)\n",
      "[ExprGenerator] layer:2 expr:scale(beta(VWAP,ClosePrice,150))\n",
      "[ExprGenerator] Blacklist rules blocked this expr_str: arccosh((Volume-Return))\n",
      "[ExprGenerator] layer:2 expr:hhv(ema(OpenPrice,80),10)\n",
      "[ExprGenerator] layer:2 expr:var(kurtosis(Return,80),40)\n",
      "[ExprGenerator] Blacklist rules blocked this expr_str: arccos(drawdown_period(Return))\n",
      "[ExprGenerator] layer:2 expr:scale_one(delta2(Volume,15,15))\n",
      "[ExprGenerator] layer:2 expr:kurtosis(ts_product(ClosePrice,100),200)\n",
      "[ExprGenerator] layer:2 expr:skewness(floor(OpenPrice),100)\n",
      "[ExprGenerator] layer:2 expr:reciprocal(sqrt(VWAP))\n",
      "[ExprGenerator] layer:2 expr:sinh(stddev(LowestPrice,100))\n",
      "[ExprGenerator] layer:2 expr:(ceil(HighestPrice)/kurtosis(Return,40))\n",
      "[ExprGenerator] layer:2 expr:floor(scale(LowestPrice))\n",
      "[ExprGenerator] Blacklist rules blocked this expr_str: arctanh(linearreg_slope(Return,60))\n",
      "[ExprGenerator] layer:2 expr:ts_product(var(Volume,100),100)\n",
      "[ExprGenerator] Blacklist rules blocked this expr_str: arctanh(arcsinh(VolChg))\n",
      "[ExprGenerator] layer:2 expr:cosh(geometric_mean(VolChg))\n",
      "[ExprGenerator] Blacklist rules blocked this expr_str: linearreg_intercept(arctan(VWAP),60)\n",
      "[ExprGenerator] layer:2 expr:geometric_mean(scale_one(Return))\n",
      "[ExprGenerator] Blacklist rules blocked this expr_str: arcsin(kurtosis(HighestPrice,40))\n",
      "[ExprGenerator] layer:2 expr:square(var(Return,200))\n",
      "[ExprGenerator] layer:2 expr:exp(ts_argmax(VWAP,5))\n"
     ]
    }
   ],
   "source": [
    "for i in range(30):\n",
    "    eg.get_one_expr(layer_num=2)"
   ]
  },
  {
   "cell_type": "code",
   "execution_count": null,
   "metadata": {},
   "outputs": [],
   "source": []
  }
 ],
 "metadata": {
  "kernelspec": {
   "display_name": "Python 3",
   "language": "python",
   "name": "python3"
  },
  "language_info": {
   "codemirror_mode": {
    "name": "ipython",
    "version": 3
   },
   "file_extension": ".py",
   "mimetype": "text/x-python",
   "name": "python",
   "nbconvert_exporter": "python",
   "pygments_lexer": "ipython3",
   "version": "3.7.4"
  }
 },
 "nbformat": 4,
 "nbformat_minor": 4
}
