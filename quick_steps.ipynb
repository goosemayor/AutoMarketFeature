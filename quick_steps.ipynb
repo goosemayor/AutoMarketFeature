{
 "cells": [
  {
   "cell_type": "code",
   "execution_count": 1,
   "metadata": {},
   "outputs": [
    {
     "data": {
      "text/plain": [
       "'/Users/Hans/Desktop/Works/AutoMarketFeature'"
      ]
     },
     "execution_count": 1,
     "metadata": {},
     "output_type": "execute_result"
    }
   ],
   "source": [
    "import os\n",
    "os.path.join('/your_path/')\n",
    "from lib import expr_generator\n",
    "eg = expr_generator.ExprGenerator()\n",
    "eg.get_one_expr(layer_num=1)"
   ]
  },
  {
   "cell_type": "code",
   "execution_count": 7,
   "metadata": {},
   "outputs": [
    {
     "name": "stdout",
     "output_type": "stream",
     "text": [
      "[ExprGenerator] layer:1 expr:ts_min(Volume,60)\n"
     ]
    },
    {
     "data": {
      "text/plain": [
       "{'expr': 'ts_min(Volume,60)', 'layer': 1, 'create_date': '2020-10-22 14:38:49'}"
      ]
     },
     "execution_count": 7,
     "metadata": {},
     "output_type": "execute_result"
    }
   ],
   "source": []
  },
  {
   "cell_type": "code",
   "execution_count": 3,
   "metadata": {},
   "outputs": [
    {
     "name": "stdout",
     "output_type": "stream",
     "text": [
      "[ExprGenerator] layer:1 expr:(ClosePrice-Volume)\n"
     ]
    },
    {
     "data": {
      "text/plain": [
       "{'expr': '(ClosePrice-Volume)',\n",
       " 'layer': 1,\n",
       " 'create_date': '2020-10-22 14:37:05'}"
      ]
     },
     "execution_count": 3,
     "metadata": {},
     "output_type": "execute_result"
    }
   ],
   "source": []
  },
  {
   "cell_type": "code",
   "execution_count": null,
   "metadata": {},
   "outputs": [],
   "source": []
  }
 ],
 "metadata": {
  "kernelspec": {
   "display_name": "Python 3",
   "language": "python",
   "name": "python3"
  },
  "language_info": {
   "codemirror_mode": {
    "name": "ipython",
    "version": 3
   },
   "file_extension": ".py",
   "mimetype": "text/x-python",
   "name": "python",
   "nbconvert_exporter": "python",
   "pygments_lexer": "ipython3",
   "version": "3.7.4"
  }
 },
 "nbformat": 4,
 "nbformat_minor": 4
}
